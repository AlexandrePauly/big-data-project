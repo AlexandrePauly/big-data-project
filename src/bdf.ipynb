{
  "cells": [
    {
      "cell_type": "markdown",
      "metadata": {
        "id": "3gPrSAiwcNSF"
      },
      "source": [
        "# Big Data Frameworks"
      ]
    },
    {
      "cell_type": "markdown",
      "metadata": {
        "id": "qfakstH4cNSG"
      },
      "source": [
        "## Importation des librairies"
      ]
    },
    {
      "cell_type": "code",
      "execution_count": 1,
      "metadata": {
        "id": "yedt-b-qcNSH"
      },
      "outputs": [],
      "source": [
        "import pandas as pd\n",
        "import numpy as np\n",
        "import os\n",
        "import time\n",
        "import matplotlib.pyplot as plt\n",
        "import seaborn as sns"
      ]
    },
    {
      "cell_type": "code",
      "execution_count": 2,
      "metadata": {
        "id": "mC6EF9o-cnpW",
        "colab": {
          "base_uri": "https://localhost:8080/"
        },
        "outputId": "2ca46855-97b4-4880-a0c9-0433190ff7b2"
      },
      "outputs": [
        {
          "output_type": "stream",
          "name": "stdout",
          "text": [
            "Drive already mounted at /content/drive; to attempt to forcibly remount, call drive.mount(\"/content/drive\", force_remount=True).\n"
          ]
        }
      ],
      "source": [
        "from google.colab import drive\n",
        "drive.mount('/content/drive')"
      ]
    },
    {
      "cell_type": "markdown",
      "metadata": {
        "id": "9stKdOLYcNSH"
      },
      "source": [
        "## Data loading"
      ]
    },
    {
      "cell_type": "code",
      "execution_count": 3,
      "metadata": {
        "id": "aI8D5CV3cNSI",
        "colab": {
          "base_uri": "https://localhost:8080/"
        },
        "outputId": "7319f95a-6464-4b84-c575-1df231b64529"
      },
      "outputs": [
        {
          "output_type": "stream",
          "name": "stdout",
          "text": [
            "Processing job_events ...\n",
            "Processing task_events ...\n",
            "Processing machine_events ...\n",
            "Processing machine_attributes ...\n",
            "Processing task_constraints ...\n",
            "Processing task_usage ...\n",
            "Exemple de données pour job_events:\n",
            "+------------+------------+----------+----------+--------------------+----------------+--------------------+--------------------+\n",
            "|        time|missing info|    job ID|event type|                user|scheduling class|            job name|    logical job name|\n",
            "+------------+------------+----------+----------+--------------------+----------------+--------------------+--------------------+\n",
            "|256171905035|  Unnamed: 1|6281347727|         4|0r3naaX+ybfsUIahb...|               1|OafiPIfvQnxASpEzq...|rSp0GRW2y6HCnfQZg...|\n",
            "|256172659040|        NULL|6281359012|         1|F2+Gv53Pxd4KDRb/U...|               0|6cEyQ7YEIiUwugpf7...|2N2Ubknr/Ly7V95po...|\n",
            "|256185883988|        NULL|6281360458|         0|YFckKi9Y5+O2JDbJm...|               3|Pwl9mSMuJ26sfQwi9...|GawJW3Q6jpFHQZVsI...|\n",
            "|256188440946|        NULL|6281360458|         1|YFckKi9Y5+O2JDbJm...|               3|Pwl9mSMuJ26sfQwi9...|GawJW3Q6jpFHQZVsI...|\n",
            "|256189281865|        NULL|6281353536|         4|F2+Gv53Pxd4KDRb/U...|               0|Qc2rjkP3kVLHtmurJ...|2N2Ubknr/Ly7V95po...|\n",
            "+------------+------------+----------+----------+--------------------+----------------+--------------------+--------------------+\n",
            "only showing top 5 rows\n",
            "\n",
            "Exemple de données pour task_events:\n",
            "+------------+------------+----------+----------+------------+----------+--------------------+----------------+--------+-----------+--------------+------------------+------------------------------+\n",
            "|        time|missing info|    job ID|task index|  machine ID|event type|                user|scheduling class|priority|CPU request|memory request|disk space request|different machines restriction|\n",
            "+------------+------------+----------+----------+------------+----------+--------------------+----------------+--------+-----------+--------------+------------------+------------------------------+\n",
            "|256171858998|  Unnamed: 1|3536441868|         0|     1331833|         1|q6EjQj6yxdwUvvufu...|               2|       9|    0.03125|       0.08728|         0.0003662|                           0.1|\n",
            "|256171859010|        NULL| 515042969|         0|4820361969.0|         1|/fk1fVcVxZ6iM6gHZ...|               2|       0|    0.01562|       0.01553|         0.0002155|                             0|\n",
            "|256171859016|        NULL|1412625411|         3| 214874368.0|         1|uHAVUszJvcY14C+f/...|               0|       0|     0.0625|       0.01746|          0.003395|                             1|\n",
            "|256171859023|        NULL|3915608727|         0|   1275535.0|         1|P/b25hVu6/7A0BJOL...|               0|       0|     0.1282|       0.01466|         0.0003834|                             0|\n",
            "|256171859032|        NULL|5402488769|       273| 308518466.0|         1|QESaVQ71IHQKxoQfg...|               1|       0|  0.0006247|      0.003883|         2.098e-05|                             0|\n",
            "+------------+------------+----------+----------+------------+----------+--------------------+----------------+--------+-----------+--------------+------------------+------------------------------+\n",
            "only showing top 5 rows\n",
            "\n",
            "Exemple de données pour task_constraints:\n",
            "+------------+----------+----------+-------------------+--------------------+--------------------+\n",
            "|        time|    job ID|task index|comparison operator|      attribute name|     attribute value|\n",
            "+------------+----------+----------+-------------------+--------------------+--------------------+\n",
            "|256171859010| 515042969|         0|                  1|GKAYWlOFlntxaxFt+...|TK171sA2zW5ItsAOn...|\n",
            "|256171859010| 515042969|         0|                  1|GKAYWlOFlntxaxFt+...|Q/S0m7ZqhWVBs/oJr...|\n",
            "|256171859010| 515042969|         0|                  1|GKAYWlOFlntxaxFt+...|/ngZ1jcc1n8mDQ7Yt...|\n",
            "|256171859023|3915608727|         0|                  0|o/0PSEOQ9jWyzNMXe...|                NULL|\n",
            "|256171905075| 515042969|         3|                  1|GKAYWlOFlntxaxFt+...|TK171sA2zW5ItsAOn...|\n",
            "+------------+----------+----------+-------------------+--------------------+--------------------+\n",
            "only showing top 5 rows\n",
            "\n",
            "Exemple de données pour task_usage:\n",
            "+------------+------------+----------+----------+----------+---------+----------------------+---------------------+-------------------+----------------+--------------------+-------------+----------------------+----------------+--------------------+----------------------+-------------------------------+--------------+----------------+-----------------+\n",
            "|  start time|    end time|    job ID|task index|machine ID| CPU rate|canonical memory usage|assigned memory usage|unmapped page cache|total page cache|maximum memory usage|disk I/O time|local disk space usage|maximum CPU rate|maximum disk IO time|cycles per instruction|memory accesses per instruction|sample portion|aggregation type|sampled CPU usage|\n",
            "+------------+------------+----------+----------+----------+---------+----------------------+---------------------+-------------------+----------------+--------------------+-------------+----------------------+----------------+--------------------+----------------------+-------------------------------+--------------+----------------+-----------------+\n",
            "|256172000000|256200000000|4665896876|       124|   6570808|  0.01437|               0.06738|              0.07739|           0.003426|        0.004074|           0.06738.1|    7.153e-05|             0.0003805|         0.03485|            0.001858|                 5.276|                        0.01585|             0|             0.1|          0.01134|\n",
            "|256172000000|256200000000|4665896876|       512| 317330953|  0.06384|               0.06775|              0.07715|           0.004189|        0.004837|             0.06787|    8.965e-05|             0.0003843|         0.09558|            0.002357|                 1.471|                       0.001849|             0|               0|          0.04669|\n",
            "|256172000000|256200000000|5045115512|         6| 317302989|      0.0|                   0.0|                  0.0|                0.0|             0.0|                 0.0|          0.0|                   0.0|             0.0|                NULL|                  NULL|                           NULL|             0|               0|              0.0|\n",
            "|256172000000|256186000000|5567180387|       123| 257496026|1.907e-05|             4.768e-06|                  0.0|          4.864e-05|       4.864e-05|           7.153e-05|          0.0|                   0.0|       0.0002613|                 0.0|                 21.47|                        0.09712|             0|               0|              0.0|\n",
            "|256172000000|256174000000|5567180387|       213|    634705|5.436e-05|             0.0002899|             0.001936|          0.0004873|       0.0006752|           0.0002966|          0.0|                   0.0|       0.0001097|                 0.0|                 28.06|                         0.1339|             0|               0|        1.049e-05|\n",
            "+------------+------------+----------+----------+----------+---------+----------------------+---------------------+-------------------+----------------+--------------------+-------------+----------------------+----------------+--------------------+----------------------+-------------------------------+--------------+----------------+-----------------+\n",
            "only showing top 5 rows\n",
            "\n"
          ]
        }
      ],
      "source": [
        "from pyspark.sql import SparkSession\n",
        "from pyspark.sql.types import StructType, StructField, StringType\n",
        "import os\n",
        "\n",
        "# Initialisation de la session Spark\n",
        "spark = SparkSession.builder \\\n",
        "    .appName(\"Big Data Frameworks\") \\\n",
        "    .config(\"spark.sql.files.maxPartitionBytes\", \"134217728\") \\\n",
        "    .getOrCreate()\n",
        "\n",
        "# Dossier des données\n",
        "filepath = \"drive/Shareddrives/BDF/Big_Data_Frameworks\"\n",
        "schema_file = os.path.join(filepath, \"schema.csv\")\n",
        "\n",
        "# Lecture du schema.csv avec Spark\n",
        "df_schema = spark.read.csv(schema_file, header=True, inferSchema=True)\n",
        "\n",
        "# Extraction des schémas\n",
        "dict_schemas = {}\n",
        "for row in df_schema.collect():\n",
        "    folder = row['file pattern'].split('/')[0]\n",
        "\n",
        "    # Ajout au dictionnaire des schémas\n",
        "    if folder not in dict_schemas:\n",
        "        dict_schemas[folder] = []\n",
        "\n",
        "    dict_schemas[folder].append((row[\"field number\"], row[\"content\"], row[\"format\"]))\n",
        "\n",
        "# Fonction pour charger un fichier avec Spark\n",
        "def load_file_spark(file_path, schema):\n",
        "    spark_schema = StructType([\n",
        "        StructField(col[1], StringType(), True) for col in schema  # Conversion en StringType (peut être adapté)\n",
        "    ])\n",
        "\n",
        "    # Charger le fichier avec Spark (sans spécifier la compression)\n",
        "    df_spark = spark.read.csv(file_path, schema=spark_schema, header=False)\n",
        "\n",
        "    return df_spark\n",
        "\n",
        "\n",
        "from functools import reduce\n",
        "\n",
        "# Fonction pour traiter un dossier\n",
        "def process_folder_spark(folder, schema):\n",
        "    folder_path = os.path.join(filepath, \"decompressed/\" + folder)\n",
        "\n",
        "    if not os.path.exists(folder_path):\n",
        "        return None\n",
        "\n",
        "    print(f\"Processing {folder} ...\")\n",
        "\n",
        "    # Liste des fichiers CSV ou CSV.GZ\n",
        "    all_files = sorted([f for f in os.listdir(folder_path) if f.endswith((\".csv\", \".csv.gz\"))])\n",
        "\n",
        "    # Charger et fusionner les fichiers avec Spark\n",
        "    df_spark_list = [load_file_spark(os.path.join(folder_path, file), schema) for file in all_files[51:100]]\n",
        "\n",
        "    if df_spark_list:\n",
        "        # Utilisation de reduce pour effectuer l'union de plusieurs DataFrames\n",
        "        return reduce(lambda df1, df2: df1.union(df2), df_spark_list)\n",
        "    else:\n",
        "        return None\n",
        "\n",
        "\n",
        "# Traitement des dossiers avec Spark\n",
        "df_spark_dict = {}\n",
        "for folder, schema in dict_schemas.items():\n",
        "    df_spark_dict[folder] = process_folder_spark(folder, schema)\n",
        "\n",
        "# Afficher un exemple de DataFrame Spark\n",
        "for folder, df in df_spark_dict.items():\n",
        "    if df is not None:\n",
        "        print(f\"Exemple de données pour {folder}:\")\n",
        "        df.show(5)\n"
      ]
    },
    {
      "cell_type": "markdown",
      "metadata": {
        "id": "PVwo28g52M09"
      },
      "source": [
        "## Analyse des données"
      ]
    },
    {
      "cell_type": "code",
      "execution_count": 4,
      "metadata": {
        "id": "_y_XpqHu6heg",
        "colab": {
          "base_uri": "https://localhost:8080/"
        },
        "outputId": "00ab1a5f-c15f-4b0a-d2e5-69f931cfe820"
      },
      "outputs": [
        {
          "output_type": "execute_result",
          "data": {
            "text/plain": [
              "{'job_events': DataFrame[time: string, missing info: string, job ID: string, event type: string, user: string, scheduling class: string, job name: string, logical job name: string],\n",
              " 'task_events': DataFrame[time: string, missing info: string, job ID: string, task index: string, machine ID: string, event type: string, user: string, scheduling class: string, priority: string, CPU request: string, memory request: string, disk space request: string, different machines restriction: string],\n",
              " 'machine_events': None,\n",
              " 'machine_attributes': None,\n",
              " 'task_constraints': DataFrame[time: string, job ID: string, task index: string, comparison operator: string, attribute name: string, attribute value: string],\n",
              " 'task_usage': DataFrame[start time: string, end time: string, job ID: string, task index: string, machine ID: string, CPU rate: string, canonical memory usage: string, assigned memory usage: string, unmapped page cache: string, total page cache: string, maximum memory usage: string, disk I/O time: string, local disk space usage: string, maximum CPU rate: string, maximum disk IO time: string, cycles per instruction: string, memory accesses per instruction: string, sample portion: string, aggregation type: string, sampled CPU usage: string]}"
            ]
          },
          "metadata": {},
          "execution_count": 4
        }
      ],
      "source": [
        "df_spark_dict"
      ]
    },
    {
      "cell_type": "code",
      "execution_count": 5,
      "metadata": {
        "id": "eNQouYi-cNSJ",
        "colab": {
          "base_uri": "https://localhost:8080/"
        },
        "outputId": "6cbe8be9-9fae-41c8-b9e9-dfdb4f5a94aa"
      },
      "outputs": [
        {
          "output_type": "execute_result",
          "data": {
            "text/plain": [
              "DataFrame[time: string, missing info: string, job ID: string, event type: string, user: string, scheduling class: string, job name: string, logical job name: string]"
            ]
          },
          "metadata": {},
          "execution_count": 5
        }
      ],
      "source": [
        "df_jobs = df_spark_dict['job_events']\n",
        "df_jobs"
      ]
    },
    {
      "cell_type": "code",
      "execution_count": 6,
      "metadata": {
        "id": "LOfMcV8zcNSJ",
        "colab": {
          "base_uri": "https://localhost:8080/"
        },
        "outputId": "bda73292-0a01-4d75-d94f-a2bb5ed6ae8e"
      },
      "outputs": [
        {
          "output_type": "execute_result",
          "data": {
            "text/plain": [
              "DataFrame[summary: string, time: string, missing info: string, job ID: string, event type: string, user: string, scheduling class: string, job name: string, logical job name: string]"
            ]
          },
          "metadata": {},
          "execution_count": 6
        }
      ],
      "source": [
        "df_jobs.describe()"
      ]
    },
    {
      "cell_type": "code",
      "execution_count": 36,
      "metadata": {
        "id": "eK7EXS0RcNSK",
        "colab": {
          "base_uri": "https://localhost:8080/"
        },
        "outputId": "602497cb-f017-436f-9fb0-347dac809ee5"
      },
      "outputs": [
        {
          "output_type": "execute_result",
          "data": {
            "text/plain": [
              "Row(time='0', missing info='Unnamed: 1', job ID='3418309', event type='0.1', user='70s3v5qRyCO/1PCdI6fVXnrW8FU/w+5CKRSa72xgcIo=', scheduling class='3', job name='IHgtoxEBuUTHNbUeVs4hzptMY4n8rZKLbZg+Jh5fNG4=', logical job name='wAmgn2H74cdoMuSFwJF3NaUEaudVBTZ0/HaNZBwIpEQ=')"
            ]
          },
          "metadata": {},
          "execution_count": 36
        }
      ],
      "source": [
        "df_jobs.head()"
      ]
    },
    {
      "cell_type": "code",
      "execution_count": 8,
      "metadata": {
        "id": "XU440W9RcNSK",
        "colab": {
          "base_uri": "https://localhost:8080/"
        },
        "outputId": "91a21468-1789-4f37-a16b-6cf7fbb0cdd3"
      },
      "outputs": [
        {
          "output_type": "execute_result",
          "data": {
            "text/plain": [
              "[Row(time='251158892444', missing info=None, job ID='6280825066', event type='4', user='mbrS6V2tRbksMPO0y8EI9B9XT2ASaPRTNndslCGN/2A=', scheduling class='1', job name='VsxVaQ0Wm1ok7y+KSxfUV3Oayk9iko5KhexmBf8/Qr0=', logical job name='jyZZdXJ39S3TzTcdmtfnhVqbPaeqRoynOOTNE36Hv9k=')]"
            ]
          },
          "metadata": {},
          "execution_count": 8
        }
      ],
      "source": [
        "df_jobs.tail(1)"
      ]
    },
    {
      "cell_type": "code",
      "execution_count": 9,
      "metadata": {
        "id": "P-qdZBuocNSK",
        "colab": {
          "base_uri": "https://localhost:8080/"
        },
        "outputId": "a256e3a5-fc00-45ca-c83f-39ff9de382c4"
      },
      "outputs": [
        {
          "output_type": "execute_result",
          "data": {
            "text/plain": [
              "[('time', 'string'),\n",
              " ('missing info', 'string'),\n",
              " ('job ID', 'string'),\n",
              " ('event type', 'string'),\n",
              " ('user', 'string'),\n",
              " ('scheduling class', 'string'),\n",
              " ('job name', 'string'),\n",
              " ('logical job name', 'string')]"
            ]
          },
          "metadata": {},
          "execution_count": 9
        }
      ],
      "source": [
        "df_jobs.dtypes"
      ]
    },
    {
      "cell_type": "code",
      "execution_count": 10,
      "metadata": {
        "id": "jicbag0ucNSL",
        "colab": {
          "base_uri": "https://localhost:8080/"
        },
        "outputId": "1b41d43c-7ccc-4845-b31d-09d570af6939"
      },
      "outputs": [
        {
          "output_type": "execute_result",
          "data": {
            "text/plain": [
              "['time',\n",
              " 'missing info',\n",
              " 'job ID',\n",
              " 'event type',\n",
              " 'user',\n",
              " 'scheduling class',\n",
              " 'job name',\n",
              " 'logical job name']"
            ]
          },
          "metadata": {},
          "execution_count": 10
        }
      ],
      "source": [
        "df_jobs.columns"
      ]
    },
    {
      "cell_type": "code",
      "execution_count": null,
      "metadata": {
        "id": "TEHga6NpcNSL"
      },
      "outputs": [],
      "source": [
        "# df_jobs.isnull().sum()"
      ]
    },
    {
      "cell_type": "code",
      "execution_count": 7,
      "metadata": {
        "id": "s0Ar0j7ZcNSL",
        "colab": {
          "base_uri": "https://localhost:8080/"
        },
        "outputId": "b39bd72a-fa96-44a7-c4dc-eb49b7b8f5dc"
      },
      "outputs": [
        {
          "output_type": "stream",
          "name": "stdout",
          "text": [
            "TIME :\n",
            "+------------+\n",
            "|        time|\n",
            "+------------+\n",
            "|256211734360|\n",
            "|256489163860|\n",
            "|256545145662|\n",
            "|256760937581|\n",
            "|257164482843|\n",
            "|258228889355|\n",
            "|258550089602|\n",
            "|258618412963|\n",
            "|258756847064|\n",
            "|258926619027|\n",
            "|258982001783|\n",
            "|259304210025|\n",
            "|260031463418|\n",
            "|260552099819|\n",
            "|260687952476|\n",
            "|256272408996|\n",
            "|256425644868|\n",
            "|256547119996|\n",
            "|256638166486|\n",
            "|256863426621|\n",
            "+------------+\n",
            "only showing top 20 rows\n",
            "\n",
            "MISSING INFO :\n",
            "+------------+\n",
            "|missing info|\n",
            "+------------+\n",
            "|  Unnamed: 1|\n",
            "|         1.0|\n",
            "|        NULL|\n",
            "+------------+\n",
            "\n",
            "JOB ID :\n",
            "+----------+\n",
            "|    job ID|\n",
            "+----------+\n",
            "|6281361317|\n",
            "|6281394571|\n",
            "|6281403820|\n",
            "|6281409542|\n",
            "|6281421761|\n",
            "|6281581514|\n",
            "|6281686132|\n",
            "|6281850570|\n",
            "|6281870236|\n",
            "|6282004219|\n",
            "|6282090570|\n",
            "|6282133250|\n",
            "|6281359417|\n",
            "|6281394628|\n",
            "|6281485365|\n",
            "|6281511454|\n",
            "|6281567485|\n",
            "|6281776706|\n",
            "|6280588084|\n",
            "|6281989630|\n",
            "+----------+\n",
            "only showing top 20 rows\n",
            "\n",
            "EVENT TYPE :\n",
            "+----------+\n",
            "|event type|\n",
            "+----------+\n",
            "|         3|\n",
            "|         0|\n",
            "|         5|\n",
            "|         1|\n",
            "|         4|\n",
            "|         6|\n",
            "|         2|\n",
            "+----------+\n",
            "\n",
            "SCHEDULING CLASS :\n",
            "+----------------+\n",
            "|scheduling class|\n",
            "+----------------+\n",
            "|               3|\n",
            "|               0|\n",
            "|               1|\n",
            "|               2|\n",
            "|             1.1|\n",
            "|             0.1|\n",
            "+----------------+\n",
            "\n",
            "JOB NAME :\n",
            "+--------------------+\n",
            "|            job name|\n",
            "+--------------------+\n",
            "|ZdZ4KZ/+9i59mJeqi...|\n",
            "|TkkuuL4Y2rzHyU2+K...|\n",
            "|NDrdLmfQaNpjrzOYX...|\n",
            "|sAEkCNDMrx4YRv1gl...|\n",
            "|PaND+iCixd3UIr9LC...|\n",
            "|CT2X8B/IqKEPTkxH/...|\n",
            "|8jvIHQZivt+eFU97n...|\n",
            "|f6SqOs91rL6NE1ugF...|\n",
            "|tPLsVomskP8BVsKy6...|\n",
            "|uVzQhw3sLRvAYystU...|\n",
            "|i0m7wrEbAXmM3OVeN...|\n",
            "|NUn4vNkVi1ZHgIM4E...|\n",
            "|MsWKu+PYy9O6Sss36...|\n",
            "|O94cWraD5y474h9kb...|\n",
            "|pmlJgPOBIh48lsD2O...|\n",
            "|st/Lq//8V9Nn3R1fT...|\n",
            "|lXEzXxAEV/ctt9OTY...|\n",
            "|sNrawNsR2kwnSoGx+...|\n",
            "|t2g1pOwPFRXqlV1fr...|\n",
            "|Duaeku/JE7w+6Xx9W...|\n",
            "+--------------------+\n",
            "only showing top 20 rows\n",
            "\n",
            "LOGICAL JOB NAME :\n",
            "+--------------------+\n",
            "|    logical job name|\n",
            "+--------------------+\n",
            "|Mly4AN9PflCgx+NQ4...|\n",
            "|xj81gFF3ztHfVr7V6...|\n",
            "|3M7YzCxHXx2tCMW85...|\n",
            "|X4YYpjfH5Ob8D5FQI...|\n",
            "|RMyQbC4EPj47OGVVo...|\n",
            "|dw6cSAo+SuEQQiOg0...|\n",
            "|Q4P4hLEskOPrecVOu...|\n",
            "|6naUoQQx+/4ALOV2z...|\n",
            "|bRaqPmU1QJ1G2KDxM...|\n",
            "|VPO+HsfcGOv4zTEo7...|\n",
            "|L5ijBdzBgYBg1zVos...|\n",
            "|8QkCU4VpLi9ozZBl2...|\n",
            "|A/Ud9eK4mD/6blBKy...|\n",
            "|lbV+YBQgAZY4C93tw...|\n",
            "|8lJKqNhcOW4kYvYsJ...|\n",
            "|qy0HEckouQ/rIH/KZ...|\n",
            "|7oKFFfuIwNnTwpenS...|\n",
            "|Ba8/8MKoIAIMfU6dr...|\n",
            "|CiTrSu3PUTJZWPOf5...|\n",
            "|Sbhvxy7TrkSwSIRa/...|\n",
            "+--------------------+\n",
            "only showing top 20 rows\n",
            "\n"
          ]
        }
      ],
      "source": [
        "for col in df_jobs.columns:\n",
        "    if col.upper() != 'USER':\n",
        "        print(f'{col.upper()} :')\n",
        "        df_jobs.select(col).distinct().show()\n"
      ]
    },
    {
      "cell_type": "markdown",
      "metadata": {
        "id": "pOYHNTW_2M1K"
      },
      "source": [
        "## Pre-processing"
      ]
    },
    {
      "cell_type": "markdown",
      "metadata": {
        "id": "DaAV_78D2M1L"
      },
      "source": [
        "### Type issues"
      ]
    },
    {
      "cell_type": "code",
      "execution_count": 8,
      "metadata": {
        "id": "EKU2yu8HNma7"
      },
      "outputs": [],
      "source": [
        "def check_type(data, columns):\n",
        "    for col in columns:\n",
        "\n",
        "        # Affichage du type global de la colonne\n",
        "        print(f\"Type global de la variable '{col}': {data.schema[col].dataType}\")\n",
        "\n",
        "        # Trouver les types uniques dans la colonne\n",
        "        unique_types_df = data.select(col).distinct()  # Sélectionner les valeurs distinctes\n",
        "        unique_types = unique_types_df.rdd.map(lambda row: type(row[0])).distinct().collect()\n",
        "\n",
        "        # Afficher les types uniques dans la colonne\n",
        "        print(f\"Liste des types uniques dans la variable '{col}': {unique_types}\")\n",
        "        print()\n",
        "\n",
        "from pyspark.sql.types import StringType, IntegerType, FloatType\n",
        "\n",
        "def display_type(data, columns, _type):\n",
        "    # Mapping des types python vers les types PySpark\n",
        "    type_mapping = {\n",
        "        'str': StringType(),  # Utilisation de StringType() pour str\n",
        "        'int': IntegerType(),\n",
        "        'float': FloatType()\n",
        "    }\n",
        "\n",
        "    for col in columns:\n",
        "\n",
        "        # Sélectionner la colonne et filtrer les éléments du bon type\n",
        "        filtered_values_df = data.select(col).filter(F.col(col).cast(type_mapping[_type]).isNotNull()).limit(1000)\n",
        "\n",
        "        # Collecter les résultats filtrés\n",
        "        filtered_values = [row[col] for row in filtered_values_df.collect()]\n",
        "\n",
        "        # Affichage des résultats\n",
        "        print(f\"Liste des éléments de type {_type} dans la colonne '{col}':\", filtered_values)\n",
        "        print(\"Nombre d'éléments de type\", _type, \":\", len(filtered_values))\n",
        "        print()\n",
        "\n"
      ]
    },
    {
      "cell_type": "markdown",
      "metadata": {
        "id": "ENJ026HL2M1M"
      },
      "source": [
        "---\n",
        "\n",
        "## 1. Identification des travaux et tâches (jobs et tasks dans la nomenclature de Google) les plus prenants en CPU, en valeurs maximales et en moyenne pendant la durée de la trace. Ces travaux seront appelés désormais jobs dominants"
      ]
    },
    {
      "cell_type": "code",
      "execution_count": 9,
      "metadata": {
        "id": "kQhjMSDzenf0",
        "colab": {
          "base_uri": "https://localhost:8080/"
        },
        "outputId": "b00c34ee-bedf-4913-8c34-64ddce2ef39e"
      },
      "outputs": [
        {
          "output_type": "execute_result",
          "data": {
            "text/plain": [
              "DataFrame[start time: string, end time: string, job ID: string, task index: string, machine ID: string, CPU rate: string, canonical memory usage: string, assigned memory usage: string, unmapped page cache: string, total page cache: string, maximum memory usage: string, disk I/O time: string, local disk space usage: string, maximum CPU rate: string, maximum disk IO time: string, cycles per instruction: string, memory accesses per instruction: string, sample portion: string, aggregation type: string, sampled CPU usage: string]"
            ]
          },
          "metadata": {},
          "execution_count": 9
        }
      ],
      "source": [
        "df_task_usage = df_spark_dict[\"task_usage\"]\n",
        "df_task_usage"
      ]
    },
    {
      "cell_type": "code",
      "execution_count": 10,
      "metadata": {
        "id": "1YU7MquigDUq",
        "colab": {
          "base_uri": "https://localhost:8080/"
        },
        "outputId": "4b0dbe87-bf7c-4073-d3a1-f0b40ad14206"
      },
      "outputs": [
        {
          "output_type": "execute_result",
          "data": {
            "text/plain": [
              "['start time',\n",
              " 'end time',\n",
              " 'job ID',\n",
              " 'task index',\n",
              " 'machine ID',\n",
              " 'CPU rate',\n",
              " 'canonical memory usage',\n",
              " 'assigned memory usage',\n",
              " 'unmapped page cache',\n",
              " 'total page cache',\n",
              " 'maximum memory usage',\n",
              " 'disk I/O time',\n",
              " 'local disk space usage',\n",
              " 'maximum CPU rate',\n",
              " 'maximum disk IO time',\n",
              " 'cycles per instruction',\n",
              " 'memory accesses per instruction',\n",
              " 'sample portion',\n",
              " 'aggregation type',\n",
              " 'sampled CPU usage']"
            ]
          },
          "metadata": {},
          "execution_count": 10
        }
      ],
      "source": [
        "df_task_usage.columns"
      ]
    },
    {
      "cell_type": "code",
      "execution_count": 11,
      "metadata": {
        "id": "C_jMvnB52M1O",
        "colab": {
          "base_uri": "https://localhost:8080/"
        },
        "outputId": "25a6ba4f-6234-4741-d84d-66cb3bdbb15d"
      },
      "outputs": [
        {
          "output_type": "stream",
          "name": "stdout",
          "text": [
            "Column<'maximum CPU rate[dtypes]'>\n"
          ]
        }
      ],
      "source": [
        "print(df_task_usage['maximum CPU rate'].dtypes)"
      ]
    },
    {
      "cell_type": "markdown",
      "metadata": {
        "id": "fhtq5KL82M1O"
      },
      "source": [
        "Les données sont toutes des float, cela ne nécessite aucun traitement."
      ]
    },
    {
      "cell_type": "code",
      "execution_count": null,
      "metadata": {
        "id": "PICjboQV2M1P"
      },
      "outputs": [],
      "source": [
        "# df_cpu.isnull().sum()"
      ]
    },
    {
      "cell_type": "markdown",
      "metadata": {
        "id": "Vv69ptBF2M1R"
      },
      "source": [
        "Aucune valeur manquante pour ces deux champs, ce qui va grandement faciliter l'analyse."
      ]
    },
    {
      "cell_type": "code",
      "execution_count": 14,
      "metadata": {
        "id": "EHT-mt1tiT7G",
        "colab": {
          "base_uri": "https://localhost:8080/"
        },
        "outputId": "6c0ac3aa-ffe5-47a5-9e17-ebe8e8fb3a3e"
      },
      "outputs": [
        {
          "output_type": "stream",
          "name": "stdout",
          "text": [
            "+----------+----------+---------+\n",
            "|    job ID|task index|  max_CPU|\n",
            "+----------+----------+---------+\n",
            "|6282133822|       527|    9.984|\n",
            "|4672894572|        16|    9.969|\n",
            "|6282102712|       731|    9.953|\n",
            "|6292104192|      2490|    9.953|\n",
            "|5567180387|       174|9.918e-05|\n",
            "+----------+----------+---------+\n",
            "only showing top 5 rows\n",
            "\n"
          ]
        }
      ],
      "source": [
        "from pyspark.sql import functions as F\n",
        "\n",
        "df_cpu = df_task_usage.groupBy(\"job ID\", \"task index\").agg(\n",
        "    F.max(\"maximum CPU rate\").alias(\"max_CPU\")\n",
        ")\n",
        "\n",
        "df_cpu_sorted = df_cpu.orderBy(F.desc(\"max_CPU\"))\n",
        "df_cpu_sorted.show(5)"
      ]
    },
    {
      "cell_type": "code",
      "source": [
        "import shutil\n",
        "\n",
        "# Définir le dossier de destination\n",
        "output_folder = \"/content/drive/MyDrive/Big_Data_Frameworks/decompressed/cpu_max\"\n",
        "output_file = os.path.join(output_folder, \"cpu_max_51_100.csv\")\n",
        "\n",
        "# S'assurer que le dossier existe\n",
        "os.makedirs(output_folder, exist_ok=True)\n",
        "\n",
        "df_cpu_limited = df_cpu_sorted.limit(100)\n",
        "\n",
        "# Écriture dans un dossier temporaire\n",
        "temp_folder = os.path.join(output_folder, \"temp_output\")\n",
        "df_cpu_limited.coalesce(1).write.csv(temp_folder, header=True, mode=\"overwrite\")\n",
        "\n",
        "# Trouver le fichier généré par Spark (part-xxxxx.csv)\n",
        "csv_file = [f for f in os.listdir(temp_folder) if f.startswith(\"part-\") and f.endswith(\".csv\")][0]\n",
        "\n",
        "# Renommer et déplacer le fichier dans le dossier `cpu_max`\n",
        "shutil.move(os.path.join(temp_folder, csv_file), output_file)\n",
        "\n",
        "# Supprimer le dossier temporaire\n",
        "shutil.rmtree(temp_folder)\n",
        "\n",
        "print(f\"Fichier enregistré sous : {output_file}\")\n"
      ],
      "metadata": {
        "colab": {
          "base_uri": "https://localhost:8080/"
        },
        "id": "NdIW7mNmXXO7",
        "outputId": "8abba995-e451-4cca-e9fb-8fd7b2dd0d5e"
      },
      "execution_count": 15,
      "outputs": [
        {
          "output_type": "stream",
          "name": "stdout",
          "text": [
            "Fichier enregistré sous : /content/drive/MyDrive/Big_Data_Frameworks/decompressed/cpu_max/cpu_max_51_100.csv\n"
          ]
        }
      ]
    },
    {
      "cell_type": "code",
      "execution_count": 18,
      "metadata": {
        "colab": {
          "base_uri": "https://localhost:8080/"
        },
        "id": "FXdK_9_UfwMD",
        "outputId": "4619bb46-f39f-4bd9-f4b1-b3c4a7c2bac1"
      },
      "outputs": [
        {
          "output_type": "stream",
          "name": "stdout",
          "text": [
            "+----------+--------------------+--------------------+\n",
            "|    job ID|   mean_max_cpu_rate|       mean_cpu_rate|\n",
            "+----------+--------------------+--------------------+\n",
            "|3350267310|                 0.0|1.351592537313433...|\n",
            "|3760070065|0.001935938888888...|1.395246031746032...|\n",
            "|3800750574|  0.0885512332112332|0.003533877899877899|\n",
            "|4294109845| 0.06736109890109888|0.002525224664224664|\n",
            "|5007846463| 0.00752338457154488|0.002398579910441...|\n",
            "|5556388735|0.025725005494505498|0.001931815506715507|\n",
            "|5943138316|0.037737793650793654|5.852307692307692E-4|\n",
            "|6117133147|0.004527296836982...|0.002027009732360098|\n",
            "|6127571338| 0.05944108669108668|0.003004362637362...|\n",
            "|6127575571| 0.08319623931623929|0.002314229059829061|\n",
            "|6127578300| 0.09979410989010985|0.002935308302808...|\n",
            "|6127628778|0.005145086813186812|5.315594627594627E-4|\n",
            "|6129259703|0.002577968986568988|4.641245421245421E-5|\n",
            "|6137696559|0.005407885592185592|8.309639560439558E-4|\n",
            "|6210418761|0.001401686935286...|2.992568376068375...|\n",
            "|6265699079|6.850474999999998E-4| 6.42252219626168E-5|\n",
            "|6273776145| 0.06395013888888888|0.007819291666666665|\n",
            "|6276212226|0.001366226881720...|3.563513978494623...|\n",
            "|6277764776|0.045616443548969994|0.001655620433682...|\n",
            "|6281361317|            0.006566|5.641666666666667E-4|\n",
            "+----------+--------------------+--------------------+\n",
            "only showing top 20 rows\n",
            "\n"
          ]
        }
      ],
      "source": [
        "mean_trace = df_task_usage.groupBy(\"job ID\").agg(\n",
        "    F.mean(\"maximum CPU rate\").alias(\"mean_max_cpu_rate\"),\n",
        "    F.mean(\"CPU rate\").alias(\"mean_cpu_rate\")\n",
        ")\n",
        "\n",
        "mean_trace.show()"
      ]
    },
    {
      "cell_type": "code",
      "execution_count": 16,
      "metadata": {
        "colab": {
          "base_uri": "https://localhost:8080/"
        },
        "id": "v9jGvM7AXtfO",
        "outputId": "bcbdc403-5c59-4ccb-a35c-9a82976416f7"
      },
      "outputs": [
        {
          "output_type": "stream",
          "name": "stdout",
          "text": [
            "+----------+----------+------------------+\n",
            "|    job ID|task index|          mean_CPU|\n",
            "+----------+----------+------------------+\n",
            "|6000622471|        16| 3.161567885615249|\n",
            "|6283829535|       155|        3.04325727|\n",
            "|6289505850|       280|       3.025255375|\n",
            "|6289091797|        98|2.4784088888888887|\n",
            "|6287387542|       118|       2.028004625|\n",
            "+----------+----------+------------------+\n",
            "only showing top 5 rows\n",
            "\n"
          ]
        }
      ],
      "source": [
        "df_cpu = df_task_usage.groupBy(\"job ID\", \"task index\").agg(\n",
        "    F.mean(\"maximum CPU rate\").alias(\"mean_CPU\")\n",
        ")\n",
        "\n",
        "df_cpu_sorted = df_cpu.orderBy(F.desc(\"mean_CPU\"))\n",
        "df_cpu_sorted.show(5)"
      ]
    },
    {
      "cell_type": "code",
      "source": [
        "import os\n",
        "import shutil\n",
        "\n",
        "# Définir le dossier de destination\n",
        "output_folder = \"/content/drive/MyDrive/Big_Data_Frameworks/decompressed/cpu_mean\"\n",
        "output_file = os.path.join(output_folder, \"cpu_mean_51_100.csv\")\n",
        "\n",
        "# S'assurer que le dossier existe\n",
        "os.makedirs(output_folder, exist_ok=True)\n",
        "df_cpu_limited = df_cpu_sorted.limit(100)\n",
        "\n",
        "\n",
        "# Écriture dans un dossier temporaire\n",
        "temp_folder = os.path.join(output_folder, \"temp_output\")\n",
        "df_cpu_limited.coalesce(1).write.csv(temp_folder, header=True, mode=\"overwrite\")\n",
        "\n",
        "# Trouver le fichier généré par Spark (part-xxxxx.csv)\n",
        "csv_file = [f for f in os.listdir(temp_folder) if f.startswith(\"part-\") and f.endswith(\".csv\")][0]\n",
        "\n",
        "# Renommer et déplacer le fichier dans le dossier `cpu_max`\n",
        "shutil.move(os.path.join(temp_folder, csv_file), output_file)\n",
        "\n",
        "# Supprimer le dossier temporaire\n",
        "shutil.rmtree(temp_folder)\n",
        "\n",
        "print(f\"Fichier enregistré sous : {output_file}\")\n"
      ],
      "metadata": {
        "colab": {
          "base_uri": "https://localhost:8080/"
        },
        "id": "hksoMfTIR3Hw",
        "outputId": "be2e7000-db15-4a83-833e-f324d3e512b1"
      },
      "execution_count": 17,
      "outputs": [
        {
          "output_type": "stream",
          "name": "stdout",
          "text": [
            "Fichier enregistré sous : /content/drive/MyDrive/Big_Data_Frameworks/decompressed/cpu_mean/cpu_mean_51_100.csv\n"
          ]
        }
      ]
    },
    {
      "cell_type": "code",
      "execution_count": 19,
      "metadata": {
        "colab": {
          "base_uri": "https://localhost:8080/",
          "height": 565
        },
        "id": "zx8hqD8xZ1rC",
        "outputId": "84a4a57e-519d-444e-e892-7c2d69cd998b"
      },
      "outputs": [
        {
          "output_type": "display_data",
          "data": {
            "text/plain": [
              "<Figure size 1000x600 with 1 Axes>"
            ],
            "image/png": "[encoded data removed]"
          },
          "metadata": {}
        }
      ],
      "source": [
        "mean_trace_pd = mean_trace.toPandas()\n",
        "\n",
        "# Créer un histogramme de la répartition de la CPU\n",
        "plt.figure(figsize=(10, 6))\n",
        "sns.histplot(mean_trace_pd[\"mean_max_cpu_rate\"], bins=50, kde=True)\n",
        "plt.title('Répartition de la CPU')\n",
        "plt.xlabel('Utilisation maximale moyenne de la CPU')\n",
        "plt.ylabel('Nombre de jobs')\n",
        "plt.show()"
      ]
    },
    {
      "cell_type": "code",
      "execution_count": 24,
      "metadata": {
        "id": "KeulwcF3JwY4",
        "colab": {
          "base_uri": "https://localhost:8080/",
          "height": 482
        },
        "outputId": "2297e6a1-e97b-40e8-e7ab-0b3a2c5212bf"
      },
      "outputs": [
        {
          "output_type": "display_data",
          "data": {
            "text/plain": [
              "<Figure size 1200x600 with 2 Axes>"
            ],
            "image/png": "[encoded data removed]"
          },
          "metadata": {}
        }
      ],
      "source": [
        "# Créer une session Spark\n",
        "spark = SparkSession.builder.appName(\"CPU_Usage_Analysis\").getOrCreate()\n",
        "\n",
        "\n",
        "# Définir les tranches de valeurs\n",
        "bins = [0, 0.2, 0.4, 0.6, 0.8, 1]\n",
        "labels = ['0-20%', '20-40%', '40-60%', '60-80%', '80-100%']\n",
        "\n",
        "# Calculer le nombre de tâches dans chaque tranche\n",
        "df_task_usage = df_task_usage.withColumn(\n",
        "    \"cpu_bin\",\n",
        "    F.when(F.col(\"maximum CPU rate\") <= bins[1], labels[0])\n",
        "     .when(F.col(\"maximum CPU rate\") <= bins[2], labels[1])\n",
        "     .when(F.col(\"maximum CPU rate\") <= bins[3], labels[2])\n",
        "     .when(F.col(\"maximum CPU rate\") <= bins[4], labels[3])\n",
        "     .otherwise(labels[4])\n",
        ")\n",
        "\n",
        "cpu_counts_1 = df_task_usage.groupBy(\"cpu_bin\").count().orderBy(\"cpu_bin\")\n",
        "cpu_counts_1_pd = cpu_counts_1.toPandas()\n",
        "\n",
        "# Définir les tranches de valeurs\n",
        "bins = [0, 0.04, 0.08, 0.12, 0.16, 0.2]\n",
        "labels = ['0-4%', '4-8%', '8-12%', '12-16%', '16-20%']\n",
        "\n",
        "df_task_usage = df_task_usage.withColumn(\n",
        "    \"cpu_bin\",\n",
        "    F.when(F.col(\"maximum CPU rate\") <= bins[1], labels[0])\n",
        "     .when(F.col(\"maximum CPU rate\") <= bins[2], labels[1])\n",
        "     .when(F.col(\"maximum CPU rate\") <= bins[3], labels[2])\n",
        "     .when(F.col(\"maximum CPU rate\") <= bins[4], labels[3])\n",
        "     .otherwise(labels[4])\n",
        ")\n",
        "\n",
        "# Compter les jobs pour la deuxième segmentation\n",
        "cpu_counts_2 = df_task_usage.groupBy(\"cpu_bin\").count().orderBy(\"cpu_bin\")\n",
        "\n",
        "# Convertir en Pandas pour le graphique\n",
        "cpu_counts_2_pd = cpu_counts_2.toPandas()\n",
        "\n",
        "# Créer les graphiques circulaires\n",
        "fig, axs = plt.subplots(1, 2, figsize=(12, 6))\n",
        "\n",
        "# Créer le graphique circulaire\n",
        "axs[0].pie(cpu_counts_1_pd['count'], labels=cpu_counts_1_pd['cpu_bin'], autopct='%1.1f%%', startangle=90)\n",
        "axs[0].set_title('Répartition de l\\'utilisation de la CPU (1ère segmentation)')\n",
        "\n",
        "# Deuxième graphique\n",
        "axs[1].pie(cpu_counts_2_pd['count'], labels=cpu_counts_2_pd['cpu_bin'], autopct='%1.1f%%', startangle=90)\n",
        "axs[1].set_title('Répartition de l\\'utilisation de la CPU (2ème segmentation)')\n",
        "\n",
        "plt.show()\n"
      ]
    },
    {
      "cell_type": "markdown",
      "metadata": {
        "id": "b9IkgfiM2M1V"
      },
      "source": [
        "---\n",
        "\n",
        "## 2. Identification des jobs et tasks les plus prenants en mémoire vive, en valeurs maximales et en moyenne pendant la durée de la trace"
      ]
    },
    {
      "cell_type": "markdown",
      "metadata": {
        "id": "4CtJh5_82M1W"
      },
      "source": [
        "Nous allons utiliser Maximum memory usage des fichiers issus du dossier task_usage, mais pour cela nous devons au préalable vérifier s'il contient des valeurs manquantes et vérifier les types."
      ]
    },
    {
      "cell_type": "code",
      "execution_count": 20,
      "metadata": {
        "id": "YUfidJ-K2M1W",
        "colab": {
          "base_uri": "https://localhost:8080/"
        },
        "outputId": "3cb96bcd-70b4-4631-b9d7-9615b5f74d39"
      },
      "outputs": [
        {
          "output_type": "stream",
          "name": "stdout",
          "text": [
            "Type global de la variable 'maximum memory usage': StringType()\n",
            "Liste des types uniques dans la variable 'maximum memory usage': [<class 'str'>]\n",
            "\n"
          ]
        }
      ],
      "source": [
        "# Colonnes à vérifier\n",
        "columns = ['maximum memory usage']\n",
        "\n",
        "check_type(df_task_usage, columns)"
      ]
    },
    {
      "cell_type": "markdown",
      "metadata": {
        "id": "Y2g-xdFz2M1W"
      },
      "source": [
        "En effet, cette variable a plusieurs types, il faut donc corriger cela. Mais on va tout de même vérifier si c'est des erreurs de saisie ou des erreurs de typage."
      ]
    },
    {
      "cell_type": "code",
      "execution_count": 21,
      "metadata": {
        "id": "EjXLy5uL2M1X",
        "colab": {
          "base_uri": "https://localhost:8080/"
        },
        "outputId": "da571a21-7efa-4007-a64e-36aaf0333f5a"
      },
      "outputs": [
        {
          "output_type": "stream",
          "name": "stdout",
          "text": [
            "Liste des éléments de type str dans la colonne 'maximum memory usage': ['0.06738.1', '0.06787', '0.0', '7.153e-05', '0.0002966', '0.0007067', '0.003693', '0.0001974', '0.0004578', '0.0004988', '0.001413', '0.0', '0.001268', '0.001337', '0.001328', '0.01828', '0.01276', '0.001719', '0.003532', '0.0', '0.0', '0.0', '0.00473', '0.0', '0.0', '0.005318', '0.005943', '0.007523', '0.006554', '0.005844', '0.0065', '0.005539', '0.0', '0.0', '0.0', '0.005363', '0.005104', '0.005219', '0.005089', '0.001892', '0.01021', '0.0', '0.003284', '0.00589', '0.0', '0.003597', '0.005478', '0.003784', '0.003174', '0.004997', '0.006012', '0.003418', '0.003521', '0.0', '0.0', '0.0', '0.0', '0.0', '0.0', '0.008423', '0.004906', '0.007919', '0.01718', '0.03717', '0.0387', '0.000351', '0.0006266', '0.001095', '0.0003195', '0.001652', '0.0', '0.001427', '0.001608', '0.0', '0.001123', '0.001076', '0.01106', '0.0', '0.001392', '0.0', '0.0', '0.001553', '0.001554', '0.01048', '0.009369', '0.0', '0.0', '0.0', '0.0', '0.0', '0.001661', '0.0', '0.001717', '0.001646', '0.001635', '0.0', '0.0', '6.104e-05', '4.482e-05', '0.0002375', '6.39e-05', '5.436e-05', '2.48e-05', '6.008e-05', '3.815e-05', '3.815e-05', '4.768e-06', '0.01184', '0.0', '0.0', '0.009506', '0.003319', '0.008377', '0.006676', '0.005791', '0.0', '0.01106', '0.0', '0.006599', '0.0', '0.001787', '0.007233', '0.007774', '0.008438', '0.0', '0.009293', '0.007454', '0.0', '0.0', '0.01085', '0.03015', '0.0', '0.0139', '0.0', '0.0', '0.0', '0.0', '0.0', '0.0', '0.0', '0.0', '0.0', '0.0', '0.0', '0.0', '0.0', '0.0', '0.0', '0.0', '0.0', '0.0', '0.0', '0.0', '0.01974', '0.0001316', '0.0003128', '0.0', '0.0006599', '0.003654', '0.0', '0.0', '7.153e-05', '0.0', '0.0004206', '0.0', '0.0006733', '0.001453', '0.001291', '0.0', '0.006111', '0.0006189', '0.01822', '0.0184', '0.01791', '0.01291', '0.01497', '0.01849', '0.007729', '0.001797', '0.003452', '0.0', '0.0', '0.0', '0.0', '0.006355', '0.0', '0.0', '0.006973', '0.006973', '0.006386', '0.000535', '0.005669', '0.004677', '0.005547', '0.0', '0.0', '0.0', '0.0', '0.0', '0.0', '0.0', '0.006126', '0.0', '0.005867', '0.006134', '0.0', '0.0', '0.0', '0.0', '0.0', '0.006416', '0.003593', '0.0', '0.0', '0.006714', '0.0', '0.0', '0.003536', '0.0', '0.0', '0.0', '0.00362', '0.004227', '0.005402', '0.0', '0.0', '0.0', '0.0', '0.004562', '0.0', '0.005203', '0.005417', '0.0', '0.002907', '0.0', '0.0', '0.002872', '0.0', '0.0', '0.0', '0.005241', '0.0', '0.0', '0.009506', '0.01088', '0.0159', '0.03662', '0.03876', '0.0002403', '0.0', '0.01366', '0.0', '0.0', '0.001593', '0.009445', '0.001623', '0.001575', '0.0', '0.0', '0.0', '0.009583', '0.0', '0.001154', '0.007378', '0.0', '0.0', '0.001604', '0.001686', '0.0', '0.008469', '0.001627', '0.0', '0.0', '0.0', '0.001623', '0.001661', '0.001585', '0.01044', '0.001587', '0.001669', '0.001595', '0.0001707', '0.0', '6.104e-05', '9.155e-05', '5.341e-05', '4.387e-05', '6.39e-05', '5.436e-05', '2.48e-05', '6.008e-05', '3.91e-05', '3.815e-05', '4.768e-06', '0.0', '0.007721', '0.0', '0.00132', '0.0', '0.006233', '0.001585', '0.001617', '0.001877', '0.006927', '0.007118', '0.008102', '0.007484', '0.01006', '0.008209', '0.006805', '0.01375', '0.03162', '0.02963', '0.001879', '0.001282', '0.0', '0.0', '0.0', '0.0', '0.0', '0.0', '0.0', '0.0', '0.0', '0.0', '0.0', '0.0', '0.0001307', '0.0', '0.0004253', '0.0', '0.0', '0.0', '0.0', '0.0', '0.0', '0.0', '0.01828', '0.0', '0.0', '0.001188', '0.001137', '0.0', '0.001074', '0.003788', '0.003811', '0.0', '0.0', '0.01418', '0.0', '0.0', '0.0', '0.0', '0.0', '0.0', '0.004959', '0.0', '0.0', '0.0', '0.0', '0.005806', '0.005264', '0.003643', '0.0', '0.005844', '0.001215', '0.0', '0.0', '0.003841', '0.004799', '0.003796', '0.005302', '0.003544', '0.004021', '0.0', '0.003784', '0.0', '0.005905', '0.004913', '0.00457', '0.003757', '0.0', '0.0', '0.0', '0.0', '0.0', '0.004799', '0.0', '0.0', '0.0', '0.01033', '0.03571', '0.0002365', '0.00145', '0.0001974', '0.0', '0.008072', '0.0004358', '0.00914', '0.0007868', '0.0', '0.0', '0.007172', '0.0', '0.001377', '0.0', '0.001564', '0.0', '0.0', '0.008514', '0.001577', '0.0', '0.001741', '0.00149', '0.0', '0.001623', '0.0', '9.155e-05', '5.341e-05', '5.817e-05', '0.0', '0.0', '0.0', '0.005959', '0.0', '0.0', '0.005814', '0.0', '0.0', '0.0', '0.0', '0.0', '0.0', '0.0', '0.001972', '0.007385', '0.03534', '0.03064', '0.003613', '0.001526', '0.0', '0.0', '0.0', '0.0', '0.0', '0.0', '0.0', '0.0', '0.0', '0.01053', '0.0004826', '0.0003157', '0.0002689', '0.0002918', '0.0', '0.01602', '0.0', '0.0', '0.001373', '0.0', '0.0', '0.0', '0.0', '0.003536', '0.0', '0.0', '0.0', '0.0', '0.0', '0.0', '0.005623', '0.005913', '0.003864', '0.005341', '0.0', '0.0', '0.004578', '0.0', '0.005798', '0.0', '0.0', '0.005516', '0.002857', '0.0', '0.005402', '0.001249', '0.0', '0.0', '0.0', '0.005486', '0.0', '0.0', '0.005371', '0.0', '0.0', '0.0', '0.0', '0.0', '0.0', '0.005333', '0.0', '0.0', '0.0', '0.0', '0.0', '0.0', '0.0002213', '0.0', '0.0', '0.0', '0.0', '0.00914', '0.001564', '0.01151', '0.001354', '0.01076', '0.001419', '0.001532', '0.0', '0.0', '0.0', '0.001616', '0.009476', '0.0', '0.0', '0.0004473', '0.0', '0.0', '0.001692', '0.00157', '0.001451', '0.0008173', '0.0', '3.242e-05', '1.431e-05', '5.817e-05', '5.054e-05', '0.0', '0.0', '0.0', '0.008453', '0.008636', '0.006592', '0.004143', '0.004456', '0.0', '0.0', '0.002048', '0.001797', '0.007309', '0.008789', '0.007057', '0.009293', '0.007141', '0.0', '0.02682', '0.0', '0.02744', '0.0', '0.0', '0.001272', '0.0009975', '0.0007572', '0.000906', '0.001232', '0.0', '0.0', '0.0', '0.0', '0.0', '0.0', '0.0', '0.0', '0.0009432', '0.001457', '0.0003347', '0.003128', '0.0007124', '0.0', '0.001297', '0.001339', '0.01886', '0.0184', '0.0', '0.01816', '0.01147', '0.00444', '0.001591', '0.001787', '0.003422', '0.0', '0.003441', '0.0', '0.01263', '0.005791', '0.006538', '0.0', '0.0', '0.005028', '0.0', '0.0', '0.0', '0.0', '0.0', '0.006927', '0.005791', '0.002983', '0.002277', '0.0', '0.0', '0.003536', '0.002918', '0.01039', '0.0', '0.005646', '0.0', '0.0', '0.001715', '0.01064', '0.0', '0.005348', '0.0', '0.00386', '0.006134', '0.005203', '0.0', '0.003819', '0.002876', '0.01436', '0.0', '0.00914', '0.008423', '0.008728', '0.01349', '0.0', '0.00769', '0.01317', '0.0', '0.0', '0.0002193', '0.0002356', '0.001579', '0.0', '0.0', '0.0', '0.001635', '0.0', '0.0', '0.0', '0.001461', '0.0', '0.0', '0.0', '0.0', '0.0', '0.001781', '0.0', '0.00164', '0.009521', '0.00168', '0.001602', '0.0', '0.001699', '1.526e-05', '1.526e-05', '3.242e-05', '0.0', '1.049e-05', '2.575e-05', '5.054e-05', '3.338e-05', '0.0', '0.0', '0.002506', '0.006134', '0.008972', '0.006195', '0.006432', '0.006058', '0.0', '0.0', '0.00173', '0.007065', '0.007339', '0.007919', '0.03748', '0.0', '0.003613', '0.003811', '0.0', '0.001282', '0.00103', '0.001308', '0.001493', '0.001249', '0.001299', '0.0', '0.0', '0.0', '0.0', '0.0', '0.0', '0.0', '0.0', '0.0', '0.0', '0.0', '0.0', '0.06763', '0.0', '0.0', '0.0', '0.0003366', '0.001337', '0.001532', '0.009491', '0.008667', '0.005661', '0.00145', '0.001781', '0.0', '0.0', '0.007034', '0.006409', '0.006844', '0.007294', '0.0', '0.0', '0.007721', '0.0', '0.00621', '0.004883', '0.0', '0.001772', '0.0', '0.0', '0.0', '0.004303', '0.005974', '0.004494', '0.00573', '0.002934', '0.008698', '0.003864', '0.0', '0.0', '0.0', '0.00515', '0.006699', '0.001774', '0.0', '0.004501', '0.0', '0.0', '0.005432', '0.006889', '0.005615', '0.005653', '0.0', '0.005089', '0.0', '0.002769', '0.0', '0.0', '0.0', '0.0', '0.0', '0.0', '0.003365', '0.002857', '0.0', '0.004974', '0.008148', '0.009842', '0.0', '0.008713', '0.0', '0.0', '0.01042', '0.009109', '0.001083', '0.0002642', '0.0002298', '0.0', '0.000288', '0.00141', '0.0', '0.001595', '0.011', '0.0', '0.001348', '0.009476', '0.0', '0.0', '0.008438', '0.001862', '0.0', '0.0', '0.0', '0.0', '0.0', '0.009537', '0.001804', '0.0', '0.0', '0.0', '1.526e-05', '0.0', '3.815e-06', '1.24e-05', '0.0', '2.575e-05', '3.242e-05', '0.008667', '0.00605', '0.008865', '0.007187', '0.008911', '0.0', '0.0', '0.0', '0.007622', '0.0', '0.008347', '0.006538', '0.0', '0.005989', '0.0', '0.006111', '0.0', '0.0', '0.0', '0.008667', '0.00592', '0.0', '0.0', '0.001759', '0.001116', '0.008026', '0.007004', '0.008316', '0.0', '0.008743', '0.004692', '0.004196', '0.03156', '0.001646', '0.001307', '0.001297', '0.001286', '0.0', '0.0', '0.0', '0.0', '0.0', '0.0', '0.0', '0.0', '0.0', '0.0', '0.0', '0.0', '0.0', '0.0', '0.0', '0.0', '0.0', '0.0', '0.06738', '0.02188', '0.001402', '0.0', '0.0009918', '0.001019', '0.000988', '0.0001621', '0.0', '0.0006876', '0.0007277', '0.0', '0.0001221', '0.001398', '0.0', '0.0', '0.001411', '0.001377', '0.0', '0.01785', '0.0', '0.0', '0.0', '0.01712', '0.0', '0.0132', '0.006042', '0.00156', '0.000865', '0.0', '0.0', '0.0', '0.001608', '0.005455', '0.0', '0.01118', '0.0', '0.0', '0.00528', '0.006065', '0.006653', '0.006996', '0.004913', '0.005241', '0.005577', '0.006981', '0.005531', '0.0', '0.0', '0.0', '0.004768', '0.005745', '0.0', '0.0', '0.0', '0.0', '0.00486', '0.002754', '0.0', '0.005852', '0.005898', '0.0', '0.0', '0.005852', '0.0', '0.006683', '0.006088', '0.005951', '0.005966', '0.0', '0.0', '0.0', '0.006294', '0.0', '0.0', '0.0', '0.0', '0.002762', '0.0', '0.0', '0.0', '0.003479', '0.005608', '0.0', '0.004906', '0.0', '0.0002785', '0.007576', '0.009842', '0.01244', '0.01144', '0.01132', '0.02451', '0.01039', '0.0005541', '0.008499', '0.0003014', '0.0', '0.0', '0.000246', '0.0', '0.0', '0.0', '0.0', '0.001762', '0.0', '0.00161', '0.0', '0.008209', '0.0', '0.0', '0.00885', '0.0', '0.0', '0.0', '0.01009', '0.0', '0.001587', '0.001545', '0.0', '0.001585', '0.0', '0.00275', '0.003017', '0.0', '0.0', '3.815e-06', '7.439e-05', '7.057e-05', '0.0', '0.0', '0.006508']\n",
            "Nombre d'éléments de type str : 1000\n",
            "\n"
          ]
        }
      ],
      "source": [
        "display_type(df_task_usage, columns, 'str')"
      ]
    },
    {
      "cell_type": "code",
      "execution_count": 23,
      "metadata": {
        "id": "LQVKkfhg2M1Y",
        "colab": {
          "base_uri": "https://localhost:8080/"
        },
        "outputId": "a7326ff2-3c6a-494c-a25b-0211b695dd79"
      },
      "outputs": [
        {
          "output_type": "stream",
          "name": "stdout",
          "text": [
            "Type global de la variable 'maximum memory usage': StringType()\n",
            "Liste des types uniques dans la variable 'maximum memory usage': [<class 'str'>]\n",
            "\n"
          ]
        }
      ],
      "source": [
        "# Colonnes à vérifier\n",
        "columns = ['maximum memory usage']\n",
        "\n",
        "check_type(df_task_usage, columns)"
      ]
    },
    {
      "cell_type": "markdown",
      "metadata": {
        "id": "_y5Qlviw2M1Z"
      },
      "source": [
        "Maintenant qu'il ne reste qu'un seul type, nous allons pouvoir procéder au traitement."
      ]
    },
    {
      "cell_type": "code",
      "execution_count": 24,
      "metadata": {
        "id": "LZE2l-Q52M1a",
        "colab": {
          "base_uri": "https://localhost:8080/"
        },
        "outputId": "bfc231f3-8da0-412b-a882-84a00913c67a"
      },
      "outputs": [
        {
          "output_type": "stream",
          "name": "stdout",
          "text": [
            "Jobs avec la plus forte utilisation mémoire maximale :\n",
            "\n",
            "+----------+----------+---------+--------------------+\n",
            "|    job ID|task index|      max|                mean|\n",
            "+----------+----------+---------+--------------------+\n",
            "|6117800987|         2|9.918e-05|0.001356406618556...|\n",
            "|5664371117|       354|9.918e-05|1.173775995174909...|\n",
            "|5664371117|       711|9.918e-05|1.202283180428134...|\n",
            "|5664371117|       378|9.918e-05|1.268199148418492E-4|\n",
            "|5664371117|       464|9.918e-05|1.427248293299621...|\n",
            "|5664371117|        66|9.918e-05|1.173381508515814...|\n",
            "|6277853776|       357|9.918e-05|1.748519817767654...|\n",
            "|5664371117|       449|9.918e-05|1.221898975672215E-4|\n",
            "|5664371117|       567|9.918e-05|1.309198694516971...|\n",
            "|5285926325|         0|9.918e-05| 2.76343728029563E-4|\n",
            "+----------+----------+---------+--------------------+\n",
            "only showing top 10 rows\n",
            "\n",
            "\n",
            "Jobs avec la plus forte utilisation mémoire moyenne :\n",
            "\n",
            "+----------+----------+------+-------------------+\n",
            "|    job ID|task index|   max|               mean|\n",
            "+----------+----------+------+-------------------+\n",
            "|6262216777|         1|0.7686| 0.7685999999999992|\n",
            "|6262216777|         0|0.7686|  0.768154334554335|\n",
            "|6256517194|         0|0.5908| 0.5829205128205129|\n",
            "|6272076905|         0|0.5801| 0.5735466422466423|\n",
            "|6256517194|         1|0.5762|  0.569169841269841|\n",
            "|4472621957|         0|0.5537| 0.5398354776839561|\n",
            "|6256517194|         2|0.5234|  0.522529426129426|\n",
            "|6184860354|       288|0.4102|0.34270000000000006|\n",
            "| 259235987|         0|0.3101| 0.3053804611650487|\n",
            "|5840251953|         0|0.4751|0.30436742702050656|\n",
            "+----------+----------+------+-------------------+\n",
            "only showing top 10 rows\n",
            "\n"
          ]
        }
      ],
      "source": [
        "df_memory = df_task_usage.groupBy(\"job ID\", \"task index\").agg(\n",
        "    F.max(\"maximum memory usage\").alias(\"max\"),\n",
        "    F.mean(\"maximum memory usage\").alias(\"mean\")\n",
        ")\n",
        "\n",
        "# Affichage des jobs avec la plus forte utilisation mémoire maximale\n",
        "print(\"Jobs avec la plus forte utilisation mémoire maximale :\\n\")\n",
        "df_memory_sorted_max = df_memory.orderBy(\"max\", ascending=False)\n",
        "df_memory_sorted_max.show(10)\n",
        "\n",
        "# Calcul de la moyenne du maximum de consommation mémoire par job\n",
        "mean_memory_trace = df_task_usage.groupBy(\"job ID\").agg(F.mean(\"maximum memory usage\").alias(\"mean_usage\"))\n",
        "\n",
        "# Affichage des jobs avec la plus forte utilisation mémoire moyenne\n",
        "print(\"\\nJobs avec la plus forte utilisation mémoire moyenne :\\n\")\n",
        "df_memory_sorted_mean = df_memory.orderBy(\"mean\", ascending=False)\n",
        "df_memory_sorted_mean.show(10)"
      ]
    },
    {
      "cell_type": "code",
      "source": [
        "print(df_memory_sorted_max_pd[\"max\"].describe())\n"
      ],
      "metadata": {
        "colab": {
          "base_uri": "https://localhost:8080/"
        },
        "id": "nEGZo5kNSuSm",
        "outputId": "e20aeab7-dc41-4b69-e842-96baf54252f7"
      },
      "execution_count": 26,
      "outputs": [
        {
          "output_type": "stream",
          "name": "stdout",
          "text": [
            "count     2221441\n",
            "unique       5319\n",
            "top           0.0\n",
            "freq        66809\n",
            "Name: max, dtype: object\n"
          ]
        }
      ]
    },
    {
      "cell_type": "code",
      "source": [
        "df_memory_sorted_max_pd = df_memory_sorted_max.toPandas()\n",
        "\n",
        "plt.figure(figsize=(12, 6))\n",
        "sns.histplot(df_memory_sorted_max_pd[\"max\"], bins=50, kde=True)\n",
        "plt.yscale(\"log\")  # Met l'axe Y en échelle logarithmique\n",
        "plt.title(\"Répartition de l'utilisation maximale de la mémoire\")\n",
        "plt.xlabel(\"Utilisation maximale de la mémoire\")\n",
        "plt.ylabel(\"Nombre de jobs (log)\")\n",
        "plt.show()\n"
      ],
      "metadata": {
        "colab": {
          "base_uri": "https://localhost:8080/",
          "height": 565
        },
        "id": "O49_25uvS1Dj",
        "outputId": "c5974dfd-a7ba-4a4b-f066-da916e74a226"
      },
      "execution_count": 27,
      "outputs": [
        {
          "output_type": "display_data",
          "data": {
            "text/plain": [
              "<Figure size 1200x600 with 1 Axes>"
            ],
            "image/png": "[encoded data removed]"
          },
          "metadata": {}
        }
      ]
    }
  ],
  "metadata": {
    "colab": {
      "provenance": []
    },
    "kernelspec": {
      "display_name": "Python 3",
      "name": "python3"
    },
    "language_info": {
      "codemirror_mode": {
        "name": "ipython",
        "version": 3
      },
      "file_extension": ".py",
      "mimetype": "text/x-python",
      "name": "python",
      "nbconvert_exporter": "python",
      "pygments_lexer": "ipython3",
      "version": "3.8.10"
    }
  },
  "nbformat": 4,
  "nbformat_minor": 0
}